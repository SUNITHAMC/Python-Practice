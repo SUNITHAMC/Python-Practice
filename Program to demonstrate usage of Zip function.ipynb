{
 "cells": [
  {
   "cell_type": "markdown",
   "metadata": {},
   "source": [
    "The purpose of zip() is to map the similar index of multiple containers so that they can be used just using as single entity.\n",
    "\n",
    "**Syntax :** zip(*iterators)\n",
    "- **Parameters :** Python iterables or containers ( list, string etc )\n",
    "- **Return Value :** Returns a single iterator object, having mapped values from all the containers."
   ]
  },
  {
   "cell_type": "code",
   "execution_count": 1,
   "metadata": {},
   "outputs": [
    {
     "name": "stdout",
     "output_type": "stream",
     "text": [
      "The zipped result is : {('Manjeet', 4, 40), ('Nikhil', 1, 50), ('Astha', 2, 70), ('Shambhavi', 3, 60)}\n"
     ]
    }
   ],
   "source": [
    "# Python code to demonstrate the working of \n",
    "# zip()\n",
    "  \n",
    "# initializing lists\n",
    "name = [ \"Manjeet\", \"Nikhil\", \"Shambhavi\", \"Astha\" ]\n",
    "roll_no = [ 4, 1, 3, 2 ]\n",
    "marks = [ 40, 50, 60, 70 ]\n",
    "  \n",
    "# using zip() to map values\n",
    "mapped = zip(name, roll_no, marks)\n",
    "  \n",
    "# converting values to print as set\n",
    "mapped = set(mapped)\n",
    "  \n",
    "# printing resultant values \n",
    "print (\"The zipped result is : \",end=\"\")\n",
    "print (mapped)"
   ]
  },
  {
   "cell_type": "markdown",
   "metadata": {},
   "source": [
    "**How to unzip?**\n",
    "- Unzipping means converting the zipped values back to the individual self as they were. This is done with the help of “*” operator."
   ]
  },
  {
   "cell_type": "code",
   "execution_count": 2,
   "metadata": {},
   "outputs": [
    {
     "name": "stdout",
     "output_type": "stream",
     "text": [
      "The zipped result is : [('Manjeet', 4, 40), ('Nikhil', 1, 50), ('Shambhavi', 3, 60), ('Astha', 2, 70)]\n",
      "\n",
      "\n",
      "The unzipped result: \n",
      "The name list is : ('Manjeet', 'Nikhil', 'Shambhavi', 'Astha')\n",
      "The roll_no list is : (4, 1, 3, 2)\n",
      "The marks list is : (40, 50, 60, 70)\n"
     ]
    }
   ],
   "source": [
    "# Python code to demonstrate the working of unzip\n",
    "  \n",
    "name = [ \"Manjeet\", \"Nikhil\", \"Shambhavi\", \"Astha\" ]\n",
    "roll_no = [ 4, 1, 3, 2 ]\n",
    "marks = [ 40, 50, 60, 70 ]\n",
    "  \n",
    "mapped = zip(name, roll_no, marks)\n",
    "  \n",
    "# converting values to print as list\n",
    "mapped = list(mapped)\n",
    "  \n",
    "print (\"The zipped result is : \",end=\"\")\n",
    "print (mapped)\n",
    "print(\"\\n\")\n",
    "  \n",
    "\n",
    "# unzipping values\n",
    "namz, roll_noz, marksz = zip(*mapped)\n",
    "  \n",
    "print (\"The unzipped result: \\n\",end=\"\")\n",
    "  \n",
    "# printing initial lists\n",
    "print (\"The name list is : \",end=\"\")\n",
    "print (namz)\n",
    "print (\"The roll_no list is : \",end=\"\")\n",
    "print (roll_noz)\n",
    "print (\"The marks list is : \",end=\"\")\n",
    "print (marksz)"
   ]
  },
  {
   "cell_type": "code",
   "execution_count": 3,
   "metadata": {},
   "outputs": [
    {
     "name": "stdout",
     "output_type": "stream",
     "text": [
      "Player :  Sachin     Score : 100\n",
      "Player :  Sehwag     Score : 15\n",
      "Player :  Gambhir     Score : 17\n",
      "Player :  Dravid     Score : 28\n",
      "Player :  Raina     Score : 43\n"
     ]
    }
   ],
   "source": [
    "players = [ \"Sachin\", \"Sehwag\", \"Gambhir\", \"Dravid\", \"Raina\" ]\n",
    "\n",
    "scores = [100, 15, 17, 28, 43 ]\n",
    "\n",
    "for pl, sc in zip(players, scores):\n",
    "    print (\"Player :  %s     Score : %d\" %(pl, sc))"
   ]
  },
  {
   "cell_type": "markdown",
   "metadata": {},
   "source": [
    "If the passed iterators have different lengths, the iterator with the least items decides the length of the new iterator.\n",
    "If one tuple contains more items, these items are ignored:"
   ]
  },
  {
   "cell_type": "code",
   "execution_count": 5,
   "metadata": {},
   "outputs": [
    {
     "name": "stdout",
     "output_type": "stream",
     "text": [
      "(('John', 'Jenny'), ('Charles', 'Christy'), ('Mike', 'Monica'))\n"
     ]
    }
   ],
   "source": [
    "a = (\"John\", \"Charles\", \"Mike\")\n",
    "b = (\"Jenny\", \"Christy\", \"Monica\", \"Vicky\")\n",
    "\n",
    "x = zip(a, b)\n",
    "\n",
    "#use the tuple() function to display a readable version of the result:\n",
    "\n",
    "print(tuple(x))   #Vicky is ignored"
   ]
  },
  {
   "cell_type": "code",
   "execution_count": null,
   "metadata": {},
   "outputs": [],
   "source": []
  }
 ],
 "metadata": {
  "kernelspec": {
   "display_name": "Python 3",
   "language": "python",
   "name": "python3"
  },
  "language_info": {
   "codemirror_mode": {
    "name": "ipython",
    "version": 3
   },
   "file_extension": ".py",
   "mimetype": "text/x-python",
   "name": "python",
   "nbconvert_exporter": "python",
   "pygments_lexer": "ipython3",
   "version": "3.7.6"
  }
 },
 "nbformat": 4,
 "nbformat_minor": 4
}

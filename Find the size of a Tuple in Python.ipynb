{
 "cells": [
  {
   "cell_type": "markdown",
   "metadata": {},
   "source": [
    "### Find the size of a Tuple in Python"
   ]
  },
  {
   "cell_type": "markdown",
   "metadata": {},
   "source": [
    "Approach 1: Using getsizeof() function"
   ]
  },
  {
   "cell_type": "code",
   "execution_count": 1,
   "metadata": {},
   "outputs": [
    {
     "name": "stdout",
     "output_type": "stream",
     "text": [
      "Size of Tuple1: 96bytes\n",
      "Size of Tuple2: 96bytes\n",
      "Size of Tuple3: 80bytes\n"
     ]
    }
   ],
   "source": [
    "import sys\n",
    "  \n",
    "# sample Tuples\n",
    "Tuple1 = (\"A\", 1, \"B\", 2, \"C\", 3)\n",
    "Tuple2 = (\"Suni\", \"Raju\", \"Sri\", \"Nikhil\", \"Geetha\", \"Deepanshu\")\n",
    "Tuple3 = ((1, \"Lion\"), ( 2, \"Tiger\"), (3, \"Fox\"), (4, \"Wolf\"))\n",
    "  \n",
    "# print the sizes of sample Tuples\n",
    "print(\"Size of Tuple1: \" + str(sys.getsizeof(Tuple1)) + \"bytes\")\n",
    "print(\"Size of Tuple2: \" + str(sys.getsizeof(Tuple2)) + \"bytes\")\n",
    "print(\"Size of Tuple3: \" + str(sys.getsizeof(Tuple3)) + \"bytes\")"
   ]
  },
  {
   "cell_type": "markdown",
   "metadata": {},
   "source": [
    "Approach 2: Using inbuilt __sizeof__() method"
   ]
  },
  {
   "cell_type": "code",
   "execution_count": 2,
   "metadata": {},
   "outputs": [
    {
     "name": "stdout",
     "output_type": "stream",
     "text": [
      "Size of Tuple1: 72bytes\n",
      "Size of Tuple2: 72bytes\n",
      "Size of Tuple3: 56bytes\n"
     ]
    }
   ],
   "source": [
    "# sample Tuples\n",
    "Tuple1 = (\"A\", 1, \"B\", 2, \"C\", 3)\n",
    "Tuple2 = (\"Suni\", \"Raju\", \"Sri\", \"Nikhil\", \"Geetha\", \"Deepanshu\")\n",
    "Tuple3 = ((1, \"Lion\"), ( 2, \"Tiger\"), (3, \"Fox\"), (4, \"Wolf\"))\n",
    "  \n",
    "# print the sizes of sample Tuples\n",
    "print(\"Size of Tuple1: \" + str(Tuple1.__sizeof__()) + \"bytes\")\n",
    "print(\"Size of Tuple2: \" + str(Tuple2.__sizeof__()) + \"bytes\")\n",
    "print(\"Size of Tuple3: \" + str(Tuple3.__sizeof__()) + \"bytes\")"
   ]
  },
  {
   "cell_type": "code",
   "execution_count": null,
   "metadata": {},
   "outputs": [],
   "source": []
  }
 ],
 "metadata": {
  "kernelspec": {
   "display_name": "Python 3",
   "language": "python",
   "name": "python3"
  },
  "language_info": {
   "codemirror_mode": {
    "name": "ipython",
    "version": 3
   },
   "file_extension": ".py",
   "mimetype": "text/x-python",
   "name": "python",
   "nbconvert_exporter": "python",
   "pygments_lexer": "ipython3",
   "version": "3.7.6"
  }
 },
 "nbformat": 4,
 "nbformat_minor": 4
}

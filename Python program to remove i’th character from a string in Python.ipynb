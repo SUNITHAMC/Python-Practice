{
 "cells": [
  {
   "cell_type": "markdown",
   "metadata": {},
   "source": [
    "#### Approach 1 : Naive Method"
   ]
  },
  {
   "cell_type": "code",
   "execution_count": 1,
   "metadata": {},
   "outputs": [],
   "source": [
    "test_str = \"GeeksForGeeks\"\n",
    "  \n",
    "# Printing original string \n",
    "print (\"The original string is : \" + test_str)\n",
    "  \n",
    "# Removing char at pos 3\n",
    "new_str = \"\"\n",
    "  \n",
    "for i in range(len(test_str)):\n",
    "    if i != 2:\n",
    "        new_str = new_str + test_str[i]\n",
    "  \n",
    "#Printing string after removal  \n",
    "print (\"The string after removal of i'th character : \" + new_str)"
   ]
  },
  {
   "cell_type": "markdown",
   "metadata": {},
   "source": [
    "#### Approach 2 : Using str.replace()"
   ]
  },
  {
   "cell_type": "code",
   "execution_count": 2,
   "metadata": {},
   "outputs": [
    {
     "name": "stdout",
     "output_type": "stream",
     "text": [
      "The original string is : GeeksForGeeks\n",
      "The string after removal of i'th character( doesn't work) : GksForGks\n",
      "The string after removal of i'th character(works) : GeekForGeeks\n"
     ]
    }
   ],
   "source": [
    "test_str = \"GeeksForGeeks\"\n",
    "  \n",
    "print (\"The original string is : \" + test_str)\n",
    "  \n",
    "# Removing char at pos 3 using replace\n",
    "new_str = test_str.replace('e', '')\n",
    "   \n",
    "# removes all occurrences of 'e'\n",
    "print (\"The string after removal of i'th character( doesn't work) : \" + new_str)\n",
    "  \n",
    "# Removing 1st occurrence of s, i.e 5th pos.7p\n",
    "new_str = test_str.replace('s', '', 1)\n",
    "  \n",
    "# Printing string after removal  \n",
    "# removes first occurrences of s\n",
    "print (\"The string after removal of i'th character(works) : \" + new_str)"
   ]
  },
  {
   "cell_type": "markdown",
   "metadata": {},
   "source": [
    "#### Approach 3 : Using slice + concatenationMethod 3 : Using slice + concatenation"
   ]
  },
  {
   "cell_type": "code",
   "execution_count": 3,
   "metadata": {},
   "outputs": [
    {
     "name": "stdout",
     "output_type": "stream",
     "text": [
      "The original string is : GeeksForGeeks\n",
      "The string after removal of i'th character : GeksForGeeks\n"
     ]
    }
   ],
   "source": [
    "test_str = \"GeeksForGeeks\"\n",
    "  \n",
    "print (\"The original string is : \" + test_str)\n",
    "\n",
    "new_str = test_str[:2] +  test_str[3:]\n",
    "\n",
    "print (\"The string after removal of i'th character : \" + new_str)"
   ]
  },
  {
   "cell_type": "markdown",
   "metadata": {},
   "source": [
    "#### Approach 4 : Using str.join() and list comprehension"
   ]
  },
  {
   "cell_type": "code",
   "execution_count": 4,
   "metadata": {},
   "outputs": [
    {
     "name": "stdout",
     "output_type": "stream",
     "text": [
      "The original string is : GeeksForGeeks\n",
      "The string after removal of i'th character : GeksForGeeks\n"
     ]
    }
   ],
   "source": [
    "test_str = \"GeeksForGeeks\"\n",
    "new_str = \"\"\n",
    "print (\"The original string is : \" + test_str)\n",
    "for i in range(len(test_str)):\n",
    "    if i != 2:\n",
    "        new_str = new_str+ ''.join(test_str[i] )\n",
    "  \n",
    "print (\"The string after removal of i'th character : \" + new_str)"
   ]
  },
  {
   "cell_type": "code",
   "execution_count": 5,
   "metadata": {},
   "outputs": [
    {
     "name": "stdout",
     "output_type": "stream",
     "text": [
      "The original string is : GeeksForGeeks\n",
      "The string after removal of i'th character : GeksForGeeks\n"
     ]
    }
   ],
   "source": [
    "#Using lst comprehension and join\n",
    "test_str = \"GeeksForGeeks\"\n",
    "  \n",
    "print (\"The original string is : \" + test_str)\n",
    "  \n",
    "# Removing char at pos 3\n",
    "new_str = ''.join([test_str[i] for i in range(len(test_str)) if i != 2])\n",
    "\n",
    "print (\"The string after removal of i'th character : \" + new_str)"
   ]
  },
  {
   "cell_type": "code",
   "execution_count": null,
   "metadata": {},
   "outputs": [],
   "source": []
  }
 ],
 "metadata": {
  "kernelspec": {
   "display_name": "Python 3",
   "language": "python",
   "name": "python3"
  },
  "language_info": {
   "codemirror_mode": {
    "name": "ipython",
    "version": 3
   },
   "file_extension": ".py",
   "mimetype": "text/x-python",
   "name": "python",
   "nbconvert_exporter": "python",
   "pygments_lexer": "ipython3",
   "version": "3.7.6"
  }
 },
 "nbformat": 4,
 "nbformat_minor": 4
}

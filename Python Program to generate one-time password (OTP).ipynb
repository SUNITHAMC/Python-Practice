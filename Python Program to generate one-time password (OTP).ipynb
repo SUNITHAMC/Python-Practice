{
 "cells": [
  {
   "cell_type": "markdown",
   "metadata": {},
   "source": [
    "### Python Program to generate one-time password (OTP)"
   ]
  },
  {
   "cell_type": "markdown",
   "metadata": {},
   "source": [
    "One-time Passwords (OTP) is a password that is valid for only one login session or transaction in a computer or a digital device. They are generally combination of 4 or 6 numeric digits or a 6-digit alphanumeric.\n",
    "\n",
    "random() function can be used to generate random OTP which is predefined in random library. Let’s see how to generate OTP using Python."
   ]
  },
  {
   "cell_type": "markdown",
   "metadata": {},
   "source": [
    "Used Function:\n",
    "\n",
    "- **random.random():** This function returns any random number between 0 to 1.\n",
    "- **math.floor():** It returns floor of any floating number to a integer value.\n",
    "\n",
    "Using the above function pick random index of string array which contains all the possible candidates of a particular digit of the OTP."
   ]
  },
  {
   "cell_type": "markdown",
   "metadata": {},
   "source": [
    "#### Example 1 : Generate 4 digit Numeric OTP"
   ]
  },
  {
   "cell_type": "code",
   "execution_count": 1,
   "metadata": {},
   "outputs": [
    {
     "name": "stdout",
     "output_type": "stream",
     "text": [
      "OTP of 4 digits: 7521\n"
     ]
    }
   ],
   "source": [
    "import math, random\n",
    "  \n",
    "def generateOTP() :\n",
    "  \n",
    "    digits = \"0123456789\"\n",
    "    OTP = \"\"\n",
    "  \n",
    "   # length of password can be chaged by changing value in range\n",
    "    for i in range(4) :\n",
    "        OTP += digits[math.floor(random.random() * 10)] #here 10 is the length of digits\n",
    "  \n",
    "    return OTP\n",
    "  \n",
    "# Driver code\n",
    "if __name__ == \"__main__\" :\n",
    "      \n",
    "    print(\"OTP of 4 digits:\", generateOTP())"
   ]
  },
  {
   "cell_type": "markdown",
   "metadata": {},
   "source": [
    "#### Example 2: Generate alphanumeric OTP of length 6"
   ]
  },
  {
   "cell_type": "code",
   "execution_count": 2,
   "metadata": {},
   "outputs": [
    {
     "name": "stdout",
     "output_type": "stream",
     "text": [
      "OTP of length 6: kQBwoe\n"
     ]
    }
   ],
   "source": [
    "import math, random\n",
    "  \n",
    "def generateOTP() :\n",
    "  \n",
    "    string = '0123456789abcdefghijklmnopqrstuvwxyzABCDEFGHIJKLMNOPQRSTUVWXYZ'\n",
    "    OTP = \"\"\n",
    "    length = len(string)\n",
    "    for i in range(6) :\n",
    "        OTP += string[math.floor(random.random() * length)]\n",
    "  \n",
    "    return OTP\n",
    "  \n",
    "if __name__ == \"__main__\" :\n",
    "      \n",
    "    print(\"OTP of length 6:\", generateOTP())"
   ]
  },
  {
   "cell_type": "markdown",
   "metadata": {},
   "source": [
    "#### Example 3: Using String constants"
   ]
  },
  {
   "cell_type": "code",
   "execution_count": 3,
   "metadata": {},
   "outputs": [
    {
     "name": "stdout",
     "output_type": "stream",
     "text": [
      "aStQtXT2Lg\n"
     ]
    }
   ],
   "source": [
    "# Importing random to generate \n",
    "# random string sequence \n",
    "import random \n",
    "     \n",
    "# Importing string library function \n",
    "import string \n",
    "     \n",
    "def rand_pass(size): \n",
    "         \n",
    "    # Takes random choices from \n",
    "    # ascii_letters and digits \n",
    "    generate_pass = ''.join([random.choice( string.ascii_uppercase +\n",
    "                                            string.ascii_lowercase +\n",
    "                                            string.digits) \n",
    "                                            for n in range(size)]) \n",
    "                             \n",
    "    return generate_pass \n",
    "     \n",
    "# Driver Code  \n",
    "password = rand_pass(10) \n",
    "print(password) "
   ]
  },
  {
   "cell_type": "code",
   "execution_count": null,
   "metadata": {},
   "outputs": [],
   "source": []
  }
 ],
 "metadata": {
  "kernelspec": {
   "display_name": "Python 3",
   "language": "python",
   "name": "python3"
  },
  "language_info": {
   "codemirror_mode": {
    "name": "ipython",
    "version": 3
   },
   "file_extension": ".py",
   "mimetype": "text/x-python",
   "name": "python",
   "nbconvert_exporter": "python",
   "pygments_lexer": "ipython3",
   "version": "3.7.6"
  }
 },
 "nbformat": 4,
 "nbformat_minor": 4
}

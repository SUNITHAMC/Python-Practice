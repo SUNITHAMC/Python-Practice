{
 "cells": [
  {
   "cell_type": "markdown",
   "metadata": {},
   "source": [
    "### Reverse words in a given String in Python"
   ]
  },
  {
   "cell_type": "markdown",
   "metadata": {},
   "source": [
    "#### Approach 1 : Using List"
   ]
  },
  {
   "cell_type": "code",
   "execution_count": 13,
   "metadata": {},
   "outputs": [
    {
     "name": "stdout",
     "output_type": "stream",
     "text": [
      "coding for geeks\n"
     ]
    }
   ],
   "source": [
    "str = \"geeks for coding\"\n",
    "\n",
    "list1 = str.split(' ')\n",
    "\n",
    "list2 = list1[: :-1]\n",
    "\n",
    "print(\" \".join(list2))"
   ]
  },
  {
   "cell_type": "markdown",
   "metadata": {},
   "source": [
    "#### Approach 2 : Using reversed function"
   ]
  },
  {
   "cell_type": "code",
   "execution_count": 14,
   "metadata": {},
   "outputs": [
    {
     "name": "stdout",
     "output_type": "stream",
     "text": [
      "code practice quiz geeks\n"
     ]
    }
   ],
   "source": [
    "# Function to reverse words of string \n",
    "  \n",
    "def rev_sentence(sentence): \n",
    "  \n",
    "    words = sentence.split(' ') \n",
    "\n",
    "    reverse_sentence = ' '.join(reversed(words)) \n",
    "\n",
    "    return reverse_sentence   \n",
    "\n",
    "input = 'geeks quiz practice code'\n",
    "print (rev_sentence(input))"
   ]
  },
  {
   "cell_type": "markdown",
   "metadata": {},
   "source": [
    "#### Approach 3 : we can do the above task by splitting and saving the string in a reverse manner. "
   ]
  },
  {
   "cell_type": "code",
   "execution_count": 15,
   "metadata": {},
   "outputs": [
    {
     "name": "stdout",
     "output_type": "stream",
     "text": [
      "Reversed String:\n",
      "much very program this like i\n"
     ]
    }
   ],
   "source": [
    "s = \"i like this program very much\"\n",
    "words = s.split(' ')\n",
    "string =[]\n",
    "for word in words:\n",
    "    string.insert(0, word)\n",
    " \n",
    "print(\"Reversed String:\")\n",
    "print(\" \".join(string))"
   ]
  },
  {
   "cell_type": "code",
   "execution_count": null,
   "metadata": {},
   "outputs": [],
   "source": []
  }
 ],
 "metadata": {
  "kernelspec": {
   "display_name": "Python 3",
   "language": "python",
   "name": "python3"
  },
  "language_info": {
   "codemirror_mode": {
    "name": "ipython",
    "version": 3
   },
   "file_extension": ".py",
   "mimetype": "text/x-python",
   "name": "python",
   "nbconvert_exporter": "python",
   "pygments_lexer": "ipython3",
   "version": "3.7.6"
  }
 },
 "nbformat": 4,
 "nbformat_minor": 4
}

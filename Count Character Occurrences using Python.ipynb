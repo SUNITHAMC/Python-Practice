{
 "cells": [
  {
   "cell_type": "markdown",
   "metadata": {},
   "source": [
    "### Count Character Occurrences using Python"
   ]
  },
  {
   "cell_type": "markdown",
   "metadata": {},
   "source": [
    "The algorithm must iterate through each character from the beginning to count the number of times each character appears in the string.\n",
    "\n",
    "In the code above, we step through each character in the input string. If the character is already present in the string, we simply increment the value of the character by 1 and so on. Otherwise, we just add the character in the dictionary and set it to 1. In the end, we get a dictionary with the characters as keys and their values as the number of times they appeared in the string."
   ]
  },
  {
   "cell_type": "markdown",
   "metadata": {},
   "source": [
    "#### Approach 1 : Naive Method"
   ]
  },
  {
   "cell_type": "code",
   "execution_count": 1,
   "metadata": {},
   "outputs": [
    {
     "name": "stdout",
     "output_type": "stream",
     "text": [
      "{'T': 1, 'h': 1, 'e': 2, 'p': 1, 'r': 3, 'o': 1, 'g': 1, 'a': 1, 'm': 2}\n"
     ]
    }
   ],
   "source": [
    "def count_characters(s):\n",
    "    count = {}\n",
    "    for i in s:\n",
    "        if i in count:\n",
    "            count[i] += 1\n",
    "        else:\n",
    "            count[i] = 1\n",
    "    return count\n",
    "print(count_characters(\"Theprogrammer\"))"
   ]
  },
  {
   "cell_type": "markdown",
   "metadata": {},
   "source": [
    "#### Approach 2 : Using collections.Counter()"
   ]
  },
  {
   "cell_type": "code",
   "execution_count": 2,
   "metadata": {},
   "outputs": [
    {
     "name": "stdout",
     "output_type": "stream",
     "text": [
      "2\n"
     ]
    }
   ],
   "source": [
    "from collections import Counter\n",
    "  \n",
    "test_str = \"Theprogrammer\"\n",
    "  \n",
    "# using collections.Counter() to get count \n",
    "count = Counter(test_str)\n",
    "  \n",
    "# printing result \n",
    "print (count['e'])"
   ]
  },
  {
   "cell_type": "markdown",
   "metadata": {},
   "source": [
    "#### Approach 3 :Using re + findall()"
   ]
  },
  {
   "cell_type": "code",
   "execution_count": 3,
   "metadata": {},
   "outputs": [
    {
     "name": "stdout",
     "output_type": "stream",
     "text": [
      "Count of e in Theprogrammer is : 2\n"
     ]
    }
   ],
   "source": [
    "import re\n",
    "  \n",
    "test_str = \"Theprogrammer\"\n",
    "  \n",
    "count = len(re.findall(\"e\", test_str))\n",
    "  \n",
    "print (\"Count of e in Theprogrammer is : \" +  str(count))"
   ]
  }
 ],
 "metadata": {
  "kernelspec": {
   "display_name": "Python 3",
   "language": "python",
   "name": "python3"
  },
  "language_info": {
   "codemirror_mode": {
    "name": "ipython",
    "version": 3
   },
   "file_extension": ".py",
   "mimetype": "text/x-python",
   "name": "python",
   "nbconvert_exporter": "python",
   "pygments_lexer": "ipython3",
   "version": "3.7.6"
  }
 },
 "nbformat": 4,
 "nbformat_minor": 4
}

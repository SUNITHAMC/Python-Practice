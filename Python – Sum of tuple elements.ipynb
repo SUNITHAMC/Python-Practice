{
 "cells": [
  {
   "cell_type": "markdown",
   "metadata": {},
   "source": [
    "## Python program to perform Sum of tuple elements"
   ]
  },
  {
   "cell_type": "markdown",
   "metadata": {},
   "source": [
    "### Method 1 : Using for loop"
   ]
  },
  {
   "cell_type": "code",
   "execution_count": 1,
   "metadata": {},
   "outputs": [
    {
     "name": "stdout",
     "output_type": "stream",
     "text": [
      "42\n"
     ]
    }
   ],
   "source": [
    "test_tup = (7, 8, 9, 1, 10, 7) \n",
    "\n",
    "sum_tup = 0\n",
    "for i in range(len(test_tup)):\n",
    "    sum_tup = sum_tup +test_tup[i]\n",
    "    \n",
    "print(sum_tup)"
   ]
  },
  {
   "cell_type": "markdown",
   "metadata": {},
   "source": [
    "### Method 2 : Using list() + sum()"
   ]
  },
  {
   "cell_type": "code",
   "execution_count": 2,
   "metadata": {},
   "outputs": [
    {
     "name": "stdout",
     "output_type": "stream",
     "text": [
      "The original tuple is : (7, 8, 9, 1, 10, 7)\n",
      "The summation of tuple elements are : 42\n"
     ]
    }
   ],
   "source": [
    "test_tup = (7, 8, 9, 1, 10, 7) \n",
    "  \n",
    "print(\"The original tuple is : \" + str(test_tup)) \n",
    "\n",
    "res = sum(list(test_tup))\n",
    "  \n",
    "print(\"The summation of tuple elements are : \" + str(res)) "
   ]
  },
  {
   "cell_type": "markdown",
   "metadata": {},
   "source": [
    "### Method 3 : Using map() + sum() + list()"
   ]
  },
  {
   "cell_type": "code",
   "execution_count": 3,
   "metadata": {},
   "outputs": [
    {
     "name": "stdout",
     "output_type": "stream",
     "text": [
      "The original tuple is : ([7, 8], [9, 1], [10, 7])\n",
      "The summation of tuple elements are : 42\n"
     ]
    }
   ],
   "source": [
    "test_tup = ([7, 8], [9, 1], [10, 7]) \n",
    "\n",
    "print(\"The original tuple is : \" + str(test_tup)) \n",
    "  \n",
    "res = sum(list(map(sum, list(test_tup))))\n",
    "\n",
    "print(\"The summation of tuple elements are : \" + str(res)) "
   ]
  },
  {
   "cell_type": "code",
   "execution_count": null,
   "metadata": {},
   "outputs": [],
   "source": []
  }
 ],
 "metadata": {
  "kernelspec": {
   "display_name": "Python 3",
   "language": "python",
   "name": "python3"
  },
  "language_info": {
   "codemirror_mode": {
    "name": "ipython",
    "version": 3
   },
   "file_extension": ".py",
   "mimetype": "text/x-python",
   "name": "python",
   "nbconvert_exporter": "python",
   "pygments_lexer": "ipython3",
   "version": "3.7.6"
  }
 },
 "nbformat": 4,
 "nbformat_minor": 4
}

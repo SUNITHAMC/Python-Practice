{
 "cells": [
  {
   "cell_type": "markdown",
   "metadata": {},
   "source": [
    "### Python program to swap two elements in a list"
   ]
  },
  {
   "cell_type": "markdown",
   "metadata": {},
   "source": [
    "#### Approach 1: Simple swap, using comma assignment "
   ]
  },
  {
   "cell_type": "code",
   "execution_count": 1,
   "metadata": {},
   "outputs": [
    {
     "name": "stdout",
     "output_type": "stream",
     "text": [
      "[19, 65, 23, 90]\n"
     ]
    }
   ],
   "source": [
    "# Swap function\n",
    "def swapPositions(list, pos1, pos2):\n",
    "     \n",
    "    list[pos1], list[pos2] = list[pos2], list[pos1]\n",
    "    return list\n",
    " \n",
    "\n",
    "List = [23, 65, 19, 90]\n",
    "pos1, pos2  = 1, 3\n",
    " \n",
    "print(swapPositions(List, pos1-1, pos2-1))"
   ]
  },
  {
   "cell_type": "markdown",
   "metadata": {},
   "source": [
    "#### Approach 2 : Using Inbuilt list.pop() function "
   ]
  },
  {
   "cell_type": "code",
   "execution_count": 4,
   "metadata": {},
   "outputs": [
    {
     "name": "stdout",
     "output_type": "stream",
     "text": [
      "[19, 65, 23, 90]\n"
     ]
    }
   ],
   "source": [
    "# Swap function\n",
    "def swapPositions(list, pos1, pos2):\n",
    "     \n",
    "    # popping both the elements from list\n",
    "    first_ele = list.pop(pos1)  \n",
    "    second_ele = list.pop(pos2-1)\n",
    "    \n",
    "    # inserting in each others positions\n",
    "    list.insert(pos1, second_ele) \n",
    "    list.insert(pos2, first_ele) \n",
    "     \n",
    "    return list\n",
    " \n",
    "List = [23, 65, 19, 90]\n",
    "pos1, pos2  = 1, 3\n",
    " \n",
    "print(swapPositions(List, pos1-1, pos2-1))"
   ]
  },
  {
   "cell_type": "markdown",
   "metadata": {},
   "source": [
    "#### Approach 3 : Using tuple variable"
   ]
  },
  {
   "cell_type": "code",
   "execution_count": 3,
   "metadata": {},
   "outputs": [
    {
     "name": "stdout",
     "output_type": "stream",
     "text": [
      "[19, 65, 23, 90]\n"
     ]
    }
   ],
   "source": [
    "# Swap function\n",
    "def swapPositions(list, pos1, pos2):\n",
    " \n",
    "    # Storing the two elements\n",
    "    # as a pair in a tuple variable get\n",
    "    get = list[pos1], list[pos2]\n",
    "      \n",
    "    # unpacking those elements\n",
    "    list[pos2], list[pos1] = get\n",
    "      \n",
    "    return list\n",
    " \n",
    "List = [23, 65, 19, 90]\n",
    " \n",
    "pos1, pos2  = 1, 3\n",
    "print(swapPositions(List, pos1-1, pos2-1))"
   ]
  },
  {
   "cell_type": "code",
   "execution_count": null,
   "metadata": {},
   "outputs": [],
   "source": []
  }
 ],
 "metadata": {
  "kernelspec": {
   "display_name": "Python 3",
   "language": "python",
   "name": "python3"
  },
  "language_info": {
   "codemirror_mode": {
    "name": "ipython",
    "version": 3
   },
   "file_extension": ".py",
   "mimetype": "text/x-python",
   "name": "python",
   "nbconvert_exporter": "python",
   "pygments_lexer": "ipython3",
   "version": "3.7.6"
  }
 },
 "nbformat": 4,
 "nbformat_minor": 4
}

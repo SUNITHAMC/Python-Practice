{
 "cells": [
  {
   "cell_type": "markdown",
   "metadata": {},
   "source": [
    "### Python program to interchange first and last elements in a list"
   ]
  },
  {
   "cell_type": "markdown",
   "metadata": {},
   "source": [
    "### Approach 1"
   ]
  },
  {
   "cell_type": "code",
   "execution_count": 3,
   "metadata": {},
   "outputs": [
    {
     "name": "stdout",
     "output_type": "stream",
     "text": [
      "[24, 35, 9, 56, 12]\n"
     ]
    }
   ],
   "source": [
    "n = [12, 35, 9, 56, 24]\n",
    "# Swap function\n",
    "def swap(n):\n",
    "    temp = n[-1] \n",
    "    n[-1] = n[0]\n",
    "    n[0] = temp\n",
    "    \n",
    "    return n\n",
    "\n",
    "print(swap(n))"
   ]
  },
  {
   "cell_type": "code",
   "execution_count": 4,
   "metadata": {},
   "outputs": [
    {
     "name": "stdout",
     "output_type": "stream",
     "text": [
      "[24, 35, 9, 56, 12]\n"
     ]
    }
   ],
   "source": [
    "#Alternate Way\n",
    "\n",
    "# Swap function\n",
    "def swapList(newList):\n",
    "      \n",
    "    newList[0], newList[-1] = newList[-1], newList[0]\n",
    "  \n",
    "    return newList\n",
    "      \n",
    "newList = [12, 35, 9, 56, 24]\n",
    "print(swapList(newList))"
   ]
  },
  {
   "cell_type": "markdown",
   "metadata": {},
   "source": [
    "### Approach 2: Using * operand."
   ]
  },
  {
   "cell_type": "code",
   "execution_count": 5,
   "metadata": {},
   "outputs": [
    {
     "name": "stdout",
     "output_type": "stream",
     "text": [
      "[24, 35, 9, 56, 12]\n"
     ]
    }
   ],
   "source": [
    "# Swap function\n",
    "def swapList(list):\n",
    "      \n",
    "    start, *middle, end = list\n",
    "    list = [end, *middle, start]\n",
    "      \n",
    "    return list\n",
    "      \n",
    "newList = [12, 35, 9, 56, 24]\n",
    "  \n",
    "print(swapList(newList))"
   ]
  },
  {
   "cell_type": "markdown",
   "metadata": {},
   "source": [
    "### Approach 3: Swap the first and last elements is to use inbuilt function list.pop(). Pop the first element and store it in a variable. Similarily pop the last element and store it in another variable. Now insert the two popped element at each other’s original position."
   ]
  },
  {
   "cell_type": "code",
   "execution_count": 6,
   "metadata": {},
   "outputs": [
    {
     "name": "stdout",
     "output_type": "stream",
     "text": [
      "[24, 35, 9, 56, 12]\n"
     ]
    }
   ],
   "source": [
    "# Swap function\n",
    "def swapList(list):\n",
    "      \n",
    "    first = list.pop(0)   \n",
    "    last = list.pop(-1)\n",
    "      \n",
    "    list.insert(0, last)  \n",
    "    list.append(first)   \n",
    "      \n",
    "    return list\n",
    "\n",
    "newList = [12, 35, 9, 56, 24]\n",
    "  \n",
    "print(swapList(newList))"
   ]
  },
  {
   "cell_type": "code",
   "execution_count": null,
   "metadata": {},
   "outputs": [],
   "source": []
  }
 ],
 "metadata": {
  "kernelspec": {
   "display_name": "Python 3",
   "language": "python",
   "name": "python3"
  },
  "language_info": {
   "codemirror_mode": {
    "name": "ipython",
    "version": 3
   },
   "file_extension": ".py",
   "mimetype": "text/x-python",
   "name": "python",
   "nbconvert_exporter": "python",
   "pygments_lexer": "ipython3",
   "version": "3.7.6"
  }
 },
 "nbformat": 4,
 "nbformat_minor": 4
}

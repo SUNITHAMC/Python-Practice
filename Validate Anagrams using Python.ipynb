{
 "cells": [
  {
   "cell_type": "markdown",
   "metadata": {},
   "source": [
    "### Validate Anagrams using Python"
   ]
  },
  {
   "cell_type": "markdown",
   "metadata": {},
   "source": [
    "For example, the words “cinema” and “Iceman”, let’s say that the word1 here is “cinema”, so we need to write an algorithm to check whether we can make the word “Iceman” after rearranging the letters of the word “cinema”. \n",
    "\n",
    "Below is how we can validate anagrams using Python:"
   ]
  },
  {
   "cell_type": "code",
   "execution_count": 1,
   "metadata": {},
   "outputs": [
    {
     "name": "stdout",
     "output_type": "stream",
     "text": [
      "True\n",
      "True\n",
      "False\n"
     ]
    }
   ],
   "source": [
    "def anagram(word1, word2):\n",
    "    word1 = word1.lower()\n",
    "    word2 = word2.lower()\n",
    "    return sorted(word1) == sorted(word2)\n",
    "\n",
    "print(anagram(\"cinema\", \"iceman\"))\n",
    "print(anagram(\"cool\", \"loco\"))\n",
    "print(anagram(\"men\", \"women\"))"
   ]
  },
  {
   "cell_type": "code",
   "execution_count": null,
   "metadata": {},
   "outputs": [],
   "source": []
  }
 ],
 "metadata": {
  "kernelspec": {
   "display_name": "Python 3",
   "language": "python",
   "name": "python3"
  },
  "language_info": {
   "codemirror_mode": {
    "name": "ipython",
    "version": 3
   },
   "file_extension": ".py",
   "mimetype": "text/x-python",
   "name": "python",
   "nbconvert_exporter": "python",
   "pygments_lexer": "ipython3",
   "version": "3.7.6"
  }
 },
 "nbformat": 4,
 "nbformat_minor": 4
}
